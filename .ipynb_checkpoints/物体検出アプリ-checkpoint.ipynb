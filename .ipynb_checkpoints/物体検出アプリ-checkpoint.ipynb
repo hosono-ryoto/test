{
 "cells": [
  {
   "cell_type": "code",
   "execution_count": 10,
   "id": "fb70db6e-0144-48a8-afab-233b1a6e0a80",
   "metadata": {
    "tags": []
   },
   "outputs": [
    {
     "data": {
      "text/plain": [
       "{'KEY': 'YOUR_KEY', 'ENDPOINT': 'YOUR_ENDPOINT'}"
      ]
     },
     "execution_count": 10,
     "metadata": {},
     "output_type": "execute_result"
    }
   ],
   "source": [
    "{\n",
    "    \"KEY\": \"YOUR_KEY\",\n",
    "    \"ENDPOINT\": \"YOUR_ENDPOINT\"\n",
    "}"
   ]
  },
  {
   "cell_type": "code",
   "execution_count": 6,
   "id": "3455f53e-0c66-4ee8-a06a-ed615a8553b3",
   "metadata": {
    "tags": []
   },
   "outputs": [
    {
     "name": "stdout",
     "output_type": "stream",
     "text": [
      "Requirement already satisfied: azure-cognitiveservices-vision-computervision in c:\\users\\ryoto\\appdata\\local\\programs\\python\\python311\\lib\\site-packages (0.9.0)\n",
      "Requirement already satisfied: msrest>=0.5.0 in c:\\users\\ryoto\\appdata\\local\\programs\\python\\python311\\lib\\site-packages (from azure-cognitiveservices-vision-computervision) (0.7.1)\n",
      "Requirement already satisfied: azure-common~=1.1 in c:\\users\\ryoto\\appdata\\local\\programs\\python\\python311\\lib\\site-packages (from azure-cognitiveservices-vision-computervision) (1.1.28)\n",
      "Requirement already satisfied: azure-core>=1.24.0 in c:\\users\\ryoto\\appdata\\local\\programs\\python\\python311\\lib\\site-packages (from msrest>=0.5.0->azure-cognitiveservices-vision-computervision) (1.26.3)\n",
      "Requirement already satisfied: certifi>=2017.4.17 in c:\\users\\ryoto\\appdata\\local\\programs\\python\\python311\\lib\\site-packages (from msrest>=0.5.0->azure-cognitiveservices-vision-computervision) (2022.12.7)\n",
      "Requirement already satisfied: isodate>=0.6.0 in c:\\users\\ryoto\\appdata\\local\\programs\\python\\python311\\lib\\site-packages (from msrest>=0.5.0->azure-cognitiveservices-vision-computervision) (0.6.1)\n",
      "Requirement already satisfied: requests-oauthlib>=0.5.0 in c:\\users\\ryoto\\appdata\\local\\programs\\python\\python311\\lib\\site-packages (from msrest>=0.5.0->azure-cognitiveservices-vision-computervision) (1.3.1)\n",
      "Requirement already satisfied: requests~=2.16 in c:\\users\\ryoto\\appdata\\local\\programs\\python\\python311\\lib\\site-packages (from msrest>=0.5.0->azure-cognitiveservices-vision-computervision) (2.28.2)\n",
      "Requirement already satisfied: six>=1.11.0 in c:\\users\\ryoto\\appdata\\local\\programs\\python\\python311\\lib\\site-packages (from azure-core>=1.24.0->msrest>=0.5.0->azure-cognitiveservices-vision-computervision) (1.16.0)\n",
      "Requirement already satisfied: typing-extensions>=4.0.1 in c:\\users\\ryoto\\appdata\\local\\programs\\python\\python311\\lib\\site-packages (from azure-core>=1.24.0->msrest>=0.5.0->azure-cognitiveservices-vision-computervision) (4.4.0)\n",
      "Requirement already satisfied: charset-normalizer<4,>=2 in c:\\users\\ryoto\\appdata\\local\\programs\\python\\python311\\lib\\site-packages (from requests~=2.16->msrest>=0.5.0->azure-cognitiveservices-vision-computervision) (3.0.1)\n",
      "Requirement already satisfied: idna<4,>=2.5 in c:\\users\\ryoto\\appdata\\local\\programs\\python\\python311\\lib\\site-packages (from requests~=2.16->msrest>=0.5.0->azure-cognitiveservices-vision-computervision) (3.4)\n",
      "Requirement already satisfied: urllib3<1.27,>=1.21.1 in c:\\users\\ryoto\\appdata\\local\\programs\\python\\python311\\lib\\site-packages (from requests~=2.16->msrest>=0.5.0->azure-cognitiveservices-vision-computervision) (1.26.14)\n",
      "Requirement already satisfied: oauthlib>=3.0.0 in c:\\users\\ryoto\\appdata\\local\\programs\\python\\python311\\lib\\site-packages (from requests-oauthlib>=0.5.0->msrest>=0.5.0->azure-cognitiveservices-vision-computervision) (3.2.2)\n",
      "Note: you may need to restart the kernel to use updated packages.\n"
     ]
    }
   ],
   "source": [
    "pip install --upgrade azure-cognitiveservices-vision-computervision"
   ]
  },
  {
   "cell_type": "code",
   "execution_count": 5,
   "id": "613d4cfa-b389-4495-82da-472131fe9376",
   "metadata": {
    "tags": []
   },
   "outputs": [
    {
     "name": "stdout",
     "output_type": "stream",
     "text": [
      "Requirement already satisfied: pillow in c:\\users\\ryoto\\appdata\\local\\programs\\python\\python311\\lib\\site-packages (9.4.0)\n",
      "Note: you may need to restart the kernel to use updated packages.\n"
     ]
    }
   ],
   "source": [
    "pip install pillow"
   ]
  },
  {
   "cell_type": "code",
   "execution_count": 12,
   "id": "f5c2d08a-183f-453a-9fcf-95e6574977a2",
   "metadata": {
    "tags": []
   },
   "outputs": [],
   "source": [
    "from azure.cognitiveservices.vision.computervision import ComputerVisionClient\n",
    "from azure.cognitiveservices.vision.computervision.models import OperationStatusCodes\n",
    "from azure.cognitiveservices.vision.computervision.models import VisualFeatureTypes\n",
    "from msrest.authentication import CognitiveServicesCredentials\n",
    "\n",
    "from array import array\n",
    "import os\n",
    "from PIL import Image\n",
    "import sys\n",
    "import time\n",
    "\n",
    "import json"
   ]
  },
  {
   "cell_type": "code",
   "execution_count": 13,
   "id": "a910d704-85e6-491b-be58-c0f6dec893a5",
   "metadata": {
    "tags": []
   },
   "outputs": [],
   "source": [
    "with open('secret.json') as f:\n",
    "    secret = json.load(f)"
   ]
  },
  {
   "cell_type": "code",
   "execution_count": 14,
   "id": "788cb8f9-e94d-465c-9307-7921d5063b83",
   "metadata": {
    "tags": []
   },
   "outputs": [],
   "source": [
    "KEY = secret['KEY']\n",
    "ENDPOINT = secret['ENDPOINT']"
   ]
  },
  {
   "cell_type": "code",
   "execution_count": 15,
   "id": "cf09f8c6-0847-4ef1-9910-5090fd6b22bd",
   "metadata": {
    "tags": []
   },
   "outputs": [],
   "source": [
    "computervision_client = ComputerVisionClient(ENDPOINT, CognitiveServicesCredentials(KEY))"
   ]
  },
  {
   "cell_type": "code",
   "execution_count": 16,
   "id": "ec68cee9-be8f-4e7c-981e-b8c1a0b3270e",
   "metadata": {
    "tags": []
   },
   "outputs": [],
   "source": [
    "remote_image_url = \"https://raw.githubusercontent.com/Azure-Samples/cognitive-services-sample-data-files/master/ComputerVision/Images/landmark.jpg\""
   ]
  },
  {
   "cell_type": "code",
   "execution_count": null,
   "id": "f2e085cb-0452-450f-b7a6-b94e098b4ac7",
   "metadata": {},
   "outputs": [],
   "source": [
    "#画像の説明"
   ]
  },
  {
   "cell_type": "code",
   "execution_count": 24,
   "id": "749889a3-be36-43f1-9c2a-c81ebb08042a",
   "metadata": {
    "tags": []
   },
   "outputs": [
    {
     "name": "stdout",
     "output_type": "stream",
     "text": [
      "===== Describe an Image - remote =====\n",
      "Description of remote image: \n",
      "'an ancient city with many ruins with Colosseum in the background' with confidence 33.80%\n"
     ]
    }
   ],
   "source": [
    "print(\"===== Describe an Image - remote =====\")\n",
    "description_result = computervision_client.describe_image(remote_image_url)\n",
    "print(\"Description of remote image: \")\n",
    "if (len(description_result.captions) == 0):\n",
    "    print(\"No description detected.\")\n",
    "else:\n",
    "    for caption in description_result.captions:\n",
    "        print(\"'{}' with confidence {:.2f}%\".format(caption.text, caption.confidence * 100))"
   ]
  },
  {
   "cell_type": "code",
   "execution_count": 21,
   "id": "641dd089-1352-4408-b2e9-ea7f8f9fca6b",
   "metadata": {
    "tags": []
   },
   "outputs": [],
   "source": [
    "#画像カテゴリの取得"
   ]
  },
  {
   "cell_type": "code",
   "execution_count": 22,
   "id": "de352189-956e-4b4f-b848-18c4d5d7b735",
   "metadata": {
    "tags": []
   },
   "outputs": [
    {
     "name": "stdout",
     "output_type": "stream",
     "text": [
      "===== Categorize an Image - remote =====\n",
      "Categories from remote image: \n",
      "'building_' with confidence 31.64%\n",
      "'others_' with confidence 0.39%\n",
      "'outdoor_' with confidence 3.91%\n"
     ]
    }
   ],
   "source": [
    "print(\"===== Categorize an Image - remote =====\")\n",
    "remote_image_features = [\"categories\"]\n",
    "categorize_results_remote = computervision_client.analyze_image(remote_image_url, remote_image_features)\n",
    "print(\"Categories from remote image: \")\n",
    "if (len(categorize_results_remote.categories) == 0):\n",
    "    print(\"No categories detected.\")\n",
    "else:\n",
    "    for category in categorize_results_remote.categories:\n",
    "        print(\"'{}' with confidence {:.2f}%\".format(category.name, category.score * 100))"
   ]
  },
  {
   "cell_type": "code",
   "execution_count": 23,
   "id": "91a3c524-ffe5-4cc2-9f9c-89bded85c74e",
   "metadata": {
    "tags": []
   },
   "outputs": [],
   "source": [
    "#画像タグの取得"
   ]
  },
  {
   "cell_type": "code",
   "execution_count": 25,
   "id": "8b773f6d-044b-489a-9d65-c9a3eaf46baa",
   "metadata": {
    "tags": []
   },
   "outputs": [
    {
     "name": "stdout",
     "output_type": "stream",
     "text": [
      "===== Tag an image - remote =====\n",
      "Tags in the remote image: \n",
      "'outdoor' with confidence 99.00%\n",
      "'building' with confidence 98.81%\n",
      "'sky' with confidence 98.21%\n",
      "'stadium' with confidence 98.17%\n",
      "'ancient rome' with confidence 96.16%\n",
      "'ruins' with confidence 95.04%\n",
      "'amphitheatre' with confidence 93.99%\n",
      "'ancient roman architecture' with confidence 92.65%\n",
      "'historic site' with confidence 89.55%\n",
      "'ancient history' with confidence 89.54%\n",
      "'history' with confidence 86.72%\n",
      "'archaeological site' with confidence 84.41%\n",
      "'travel' with confidence 65.85%\n",
      "'large' with confidence 61.02%\n",
      "'city' with confidence 56.57%\n"
     ]
    }
   ],
   "source": [
    "print(\"===== Tag an image - remote =====\")\n",
    "tags_result_remote = computervision_client.tag_image(remote_image_url )\n",
    "\n",
    "print(\"Tags in the remote image: \")\n",
    "if (len(tags_result_remote.tags) == 0):\n",
    "    print(\"No tags detected.\")\n",
    "else:\n",
    "    for tag in tags_result_remote.tags:\n",
    "        print(\"'{}' with confidence {:.2f}%\".format(tag.name, tag.confidence * 100))"
   ]
  },
  {
   "cell_type": "code",
   "execution_count": 26,
   "id": "b1e41cb7-30c8-44c5-a5e8-507a46abc46f",
   "metadata": {
    "tags": []
   },
   "outputs": [],
   "source": [
    "#物体を検出する"
   ]
  },
  {
   "cell_type": "code",
   "execution_count": 30,
   "id": "266f1282-66cc-41d1-8cc1-5aa91f262887",
   "metadata": {
    "tags": []
   },
   "outputs": [
    {
     "name": "stdout",
     "output_type": "stream",
     "text": [
      "==== Detect Object - remote ====\n",
      "Detecting objects in remote image:\n",
      "object at location 511, 962, 107, 762\n",
      "object at location 1149, 1600, 371, 771\n",
      "object at location 256, 1172, 458, 1041\n"
     ]
    }
   ],
   "source": [
    "print(\"==== Detect Object - remote ====\")\n",
    "remote_image_url_objects = \"https://www.pakutaso.com/shared/img/thumb/nekocatPAR585852415_TP_V.jpg\"\n",
    "detect_objects_results_remote = computervision_client.detect_objects(remote_image_url_objects)\n",
    "\n",
    "print(\"Detecting objects in remote image:\")\n",
    "if len(detect_objects_results_remote.objects) == 0:\n",
    "    print(\"No objects detected.\")\n",
    "else:\n",
    "    for object in detect_objects_results_remote.objects:\n",
    "        print(\"object at location {}, {}, {}, {}\".format( \\\n",
    "        object.rectangle.x, object.rectangle.x + object.rectangle.w, \\\n",
    "        object.rectangle.y, object.rectangle.y + object.rectangle.h))"
   ]
  },
  {
   "cell_type": "code",
   "execution_count": 31,
   "id": "8110a2e4-716a-4628-b49b-60718af6ec45",
   "metadata": {},
   "outputs": [],
   "source": [
    "#ローカルファイルに対応させる"
   ]
  },
  {
   "cell_type": "code",
   "execution_count": null,
   "id": "ded9920e-4cd3-4c5c-bfe5-4714e5b894b4",
   "metadata": {},
   "outputs": [],
   "source": [
    "local_image_path = 'sample01.jpeg'\n",
    "local_image = open(local_image_path, \"rb\")\n",
    "\n",
    "print(\"==== Detect Object - local ====\")\n",
    "detect_objects_results = computervision_client.detect_objects_in_stream(local_image)\n",
    "\n",
    "print(\"Detecting objects in local image:\")\n",
    "if len(detect_objects_results.objects) == 0:\n",
    "    print(\"No objects detected.\")\n",
    "else:\n",
    "    for object in detect_objects_results.objects:\n",
    "        print(\"object at location {}, {}, {}, {}\".format( \\\n",
    "        object.rectangle.x, object.rectangle.x + object.rectangle.w, \\\n",
    "        object.rectangle.y, object.rectangle.y + object.rectangle.h))"
   ]
  }
 ],
 "metadata": {
  "kernelspec": {
   "display_name": "Python 3 (ipykernel)",
   "language": "python",
   "name": "python3"
  },
  "language_info": {
   "codemirror_mode": {
    "name": "ipython",
    "version": 3
   },
   "file_extension": ".py",
   "mimetype": "text/x-python",
   "name": "python",
   "nbconvert_exporter": "python",
   "pygments_lexer": "ipython3",
   "version": "3.11.1"
  }
 },
 "nbformat": 4,
 "nbformat_minor": 5
}
